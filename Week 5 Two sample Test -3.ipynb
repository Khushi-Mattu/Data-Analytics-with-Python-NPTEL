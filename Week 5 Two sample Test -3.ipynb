{
 "cells": [
  {
   "cell_type": "code",
   "execution_count": 1,
   "id": "24ddb6ba",
   "metadata": {},
   "outputs": [],
   "source": [
    "import pandas as pd\n",
    "import numpy as np\n",
    "import math\n",
    "from scipy import stats\n",
    "import scipy"
   ]
  },
  {
   "cell_type": "code",
   "execution_count": 2,
   "id": "c888125c",
   "metadata": {},
   "outputs": [
    {
     "data": {
      "text/plain": [
       "2.8450165269958436"
      ]
     },
     "execution_count": 2,
     "metadata": {},
     "output_type": "execute_result"
    }
   ],
   "source": [
    "scipy.stats.f.ppf(q=1-0.05,dfn=15,dfd=10)"
   ]
  },
  {
   "cell_type": "code",
   "execution_count": 3,
   "id": "e7ca1356",
   "metadata": {},
   "outputs": [
    {
     "data": {
      "text/plain": [
       "0.3931252536255495"
      ]
     },
     "execution_count": 3,
     "metadata": {},
     "output_type": "execute_result"
    }
   ],
   "source": [
    "scipy.stats.f.ppf(q=0.05,dfn=15,dfd=10)"
   ]
  },
  {
   "cell_type": "code",
   "execution_count": 4,
   "id": "64ac22ef",
   "metadata": {},
   "outputs": [],
   "source": [
    "X=[3,7,25,10,15,6,12,25,15,7]\n",
    "Y=[48,44,40,38,33,21,20,12,1,18]"
   ]
  },
  {
   "cell_type": "code",
   "execution_count": 6,
   "id": "7fb5930a",
   "metadata": {},
   "outputs": [],
   "source": [
    "F=np.var(X)/np.var(Y)\n",
    "dfn=len(X)-1\n",
    "dfd=len(Y)-1"
   ]
  },
  {
   "cell_type": "code",
   "execution_count": 7,
   "id": "7041a4d7",
   "metadata": {},
   "outputs": [],
   "source": [
    "p_value=scipy.stats.f.cdf(F,dfn,dfd)"
   ]
  },
  {
   "cell_type": "code",
   "execution_count": 8,
   "id": "395b23da",
   "metadata": {},
   "outputs": [],
   "source": [
    "def sample_size(alpha,beta,mu1,mu2,sigma):\n",
    "    z1=-1*stats.norm.ppf(alpha)\n",
    "    z2=-1*stats.norm.ppf(beta)\n",
    "    n=(((z1+z2)**2)*(sigma**2))/((mu1-mu2)**2)\n",
    "    print(n)"
   ]
  },
  {
   "cell_type": "code",
   "execution_count": 9,
   "id": "3c39a905",
   "metadata": {},
   "outputs": [
    {
     "name": "stdout",
     "output_type": "stream",
     "text": [
      "155.900083325938\n"
     ]
    }
   ],
   "source": [
    "sample_size(0.05,0.1,12,12.75,3.2)"
   ]
  },
  {
   "cell_type": "code",
   "execution_count": null,
   "id": "c930a6f1",
   "metadata": {},
   "outputs": [],
   "source": []
  }
 ],
 "metadata": {
  "kernelspec": {
   "display_name": "Python 3",
   "language": "python",
   "name": "python3"
  },
  "language_info": {
   "codemirror_mode": {
    "name": "ipython",
    "version": 3
   },
   "file_extension": ".py",
   "mimetype": "text/x-python",
   "name": "python",
   "nbconvert_exporter": "python",
   "pygments_lexer": "ipython3",
   "version": "3.8.8"
  }
 },
 "nbformat": 4,
 "nbformat_minor": 5
}
