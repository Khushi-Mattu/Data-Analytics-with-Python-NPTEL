{
 "cells": [
  {
   "cell_type": "code",
   "execution_count": 1,
   "id": "16ee5a13",
   "metadata": {},
   "outputs": [],
   "source": [
    "import pandas as pd\n",
    "import numpy as np\n",
    "import math\n",
    "import scipy\n",
    "from scipy import stats"
   ]
  },
  {
   "cell_type": "code",
   "execution_count": 2,
   "id": "7fbad44c",
   "metadata": {},
   "outputs": [],
   "source": [
    "def z_and_p(x1,x2,sigma1,sigma2,n1,n2):\n",
    "    z=(x1-x2)/(math.sqrt(((sigma1**2)/n1)+((sigma2**2)/n2)))\n",
    "    if(z<0):\n",
    "        p=stats.norm.cf(z)\n",
    "    else:\n",
    "        p=1-stats.norm.cdf(z)\n",
    "    print(z,p)"
   ]
  },
  {
   "cell_type": "code",
   "execution_count": 3,
   "id": "c01f9cb6",
   "metadata": {},
   "outputs": [
    {
     "name": "stdout",
     "output_type": "stream",
     "text": [
      "2.5155764746872635 0.00594189462107364\n"
     ]
    }
   ],
   "source": [
    "z_and_p(121,112,8,8,10,10)"
   ]
  },
  {
   "cell_type": "code",
   "execution_count": 4,
   "id": "a7bf0fbc",
   "metadata": {},
   "outputs": [],
   "source": [
    "b=[89.19,90.95,90.46,93.21,97.19,97.04,91.07,92.75]"
   ]
  },
  {
   "cell_type": "code",
   "execution_count": 5,
   "id": "e9bfce18",
   "metadata": {},
   "outputs": [],
   "source": [
    "a=[91.5,94.18,92.18,95.39,91.79,89.07,94.72,89.21]"
   ]
  },
  {
   "cell_type": "code",
   "execution_count": 6,
   "id": "2e03872d",
   "metadata": {},
   "outputs": [
    {
     "data": {
      "text/plain": [
       "Ttest_indResult(statistic=-0.3535908643461798, pvalue=0.7289136186068217)"
      ]
     },
     "execution_count": 6,
     "metadata": {},
     "output_type": "execute_result"
    }
   ],
   "source": [
    "stats.ttest_ind(a,b,equal_var=True)"
   ]
  },
  {
   "cell_type": "code",
   "execution_count": 7,
   "id": "0cd22a48",
   "metadata": {},
   "outputs": [
    {
     "data": {
      "text/plain": [
       "-2.1447866879169277"
      ]
     },
     "execution_count": 7,
     "metadata": {},
     "output_type": "execute_result"
    }
   ],
   "source": [
    "stats.t.ppf(0.025,14)"
   ]
  },
  {
   "cell_type": "code",
   "execution_count": null,
   "id": "c0475922",
   "metadata": {},
   "outputs": [],
   "source": []
  }
 ],
 "metadata": {
  "kernelspec": {
   "display_name": "Python 3",
   "language": "python",
   "name": "python3"
  },
  "language_info": {
   "codemirror_mode": {
    "name": "ipython",
    "version": 3
   },
   "file_extension": ".py",
   "mimetype": "text/x-python",
   "name": "python",
   "nbconvert_exporter": "python",
   "pygments_lexer": "ipython3",
   "version": "3.8.8"
  }
 },
 "nbformat": 4,
 "nbformat_minor": 5
}
