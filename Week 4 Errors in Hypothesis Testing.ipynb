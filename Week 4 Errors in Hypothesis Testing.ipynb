{
 "cells": [
  {
   "cell_type": "markdown",
   "id": "0266a904",
   "metadata": {},
   "source": [
    "Defining function for calculating z value"
   ]
  },
  {
   "cell_type": "code",
   "execution_count": 17,
   "id": "dab63b10",
   "metadata": {},
   "outputs": [],
   "source": [
    "import scipy\n",
    "import numpy as np"
   ]
  },
  {
   "cell_type": "code",
   "execution_count": 7,
   "id": "c78fecbe",
   "metadata": {},
   "outputs": [],
   "source": [
    "from scipy import stats\n",
    "from scipy.stats import norm"
   ]
  },
  {
   "cell_type": "code",
   "execution_count": 3,
   "id": "2af038ba",
   "metadata": {},
   "outputs": [],
   "source": [
    "def z_value(x,mu,SEM):\n",
    "    z=(x-mu)/SEM\n",
    "    if(z<0):\n",
    "        alpha=stats.norm.cdf(z)\n",
    "    else:\n",
    "        alpha=1-stats.norm.cdf(z)\n",
    "    print(alpha)"
   ]
  },
  {
   "cell_type": "code",
   "execution_count": 4,
   "id": "423fc695",
   "metadata": {},
   "outputs": [],
   "source": [
    "x=48.5\n",
    "mu=50\n",
    "SEM=0.79"
   ]
  },
  {
   "cell_type": "code",
   "execution_count": 8,
   "id": "9b8f4fdb",
   "metadata": {},
   "outputs": [
    {
     "name": "stdout",
     "output_type": "stream",
     "text": [
      "0.02879971774715278\n"
     ]
    }
   ],
   "source": [
    "z_value(x,mu,SEM)"
   ]
  },
  {
   "cell_type": "code",
   "execution_count": 9,
   "id": "19299935",
   "metadata": {},
   "outputs": [
    {
     "name": "stdout",
     "output_type": "stream",
     "text": [
      "0.005676434117424844\n"
     ]
    }
   ],
   "source": [
    "z_value(48,mu,SEM)"
   ]
  },
  {
   "cell_type": "code",
   "execution_count": 10,
   "id": "d20b0d04",
   "metadata": {},
   "outputs": [
    {
     "name": "stdout",
     "output_type": "stream",
     "text": [
      "0.0056764341174248\n"
     ]
    }
   ],
   "source": [
    "z_value(52,mu,SEM)"
   ]
  },
  {
   "cell_type": "code",
   "execution_count": 11,
   "id": "e293c697",
   "metadata": {},
   "outputs": [],
   "source": [
    "beta=stats.norm.cdf((51.5-52)/0.79)"
   ]
  },
  {
   "cell_type": "code",
   "execution_count": 12,
   "id": "6b193c09",
   "metadata": {},
   "outputs": [
    {
     "data": {
      "text/plain": [
       "0.26339575390741593"
      ]
     },
     "execution_count": 12,
     "metadata": {},
     "output_type": "execute_result"
    }
   ],
   "source": [
    "beta"
   ]
  },
  {
   "cell_type": "code",
   "execution_count": 13,
   "id": "3d59b120",
   "metadata": {},
   "outputs": [],
   "source": [
    "beta=stats.norm.cdf((51.5-50.5)/0.79)"
   ]
  },
  {
   "cell_type": "code",
   "execution_count": 14,
   "id": "5c0a04b2",
   "metadata": {},
   "outputs": [
    {
     "data": {
      "text/plain": [
       "0.8972117321157791"
      ]
     },
     "execution_count": 14,
     "metadata": {},
     "output_type": "execute_result"
    }
   ],
   "source": [
    "beta"
   ]
  },
  {
   "cell_type": "code",
   "execution_count": 19,
   "id": "46f2c583",
   "metadata": {},
   "outputs": [],
   "source": [
    "def type_2(mu1,mu2,sigma,n,alpha):\n",
    "    z=stats.norm.ppf(alpha)\n",
    "    xbar=(mu1)+(z*sigma/np.sqrt(n))\n",
    "    z2=(xbar-mu2)/(sigma/np.sqrt(n))\n",
    "    if(mu1>mu2):\n",
    "        beta=1-stats.norm.cdf(z2)\n",
    "    else:\n",
    "        beta=stats.norm.cdf(z2)\n",
    "    print(beta)"
   ]
  },
  {
   "cell_type": "code",
   "execution_count": 20,
   "id": "01192a0a",
   "metadata": {},
   "outputs": [
    {
     "name": "stdout",
     "output_type": "stream",
     "text": [
      "0.27292999450730004\n"
     ]
    }
   ],
   "source": [
    "type_2(8.3,7.4,3.1,60,0.05)"
   ]
  },
  {
   "cell_type": "code",
   "execution_count": 21,
   "id": "10ee7771",
   "metadata": {},
   "outputs": [
    {
     "name": "stdout",
     "output_type": "stream",
     "text": [
      "0.8079200023112734\n"
     ]
    }
   ],
   "source": [
    "type_2(12,11.99,0.1,60,0.05)"
   ]
  },
  {
   "cell_type": "code",
   "execution_count": 22,
   "id": "67bba4db",
   "metadata": {},
   "outputs": [
    {
     "name": "stdout",
     "output_type": "stream",
     "text": [
      "0.07303790512847008\n"
     ]
    }
   ],
   "source": [
    "type_2(12,11.96,0.1,60,0.05)"
   ]
  },
  {
   "cell_type": "code",
   "execution_count": null,
   "id": "e3b7adf0",
   "metadata": {},
   "outputs": [],
   "source": []
  }
 ],
 "metadata": {
  "kernelspec": {
   "display_name": "Python 3",
   "language": "python",
   "name": "python3"
  },
  "language_info": {
   "codemirror_mode": {
    "name": "ipython",
    "version": 3
   },
   "file_extension": ".py",
   "mimetype": "text/x-python",
   "name": "python",
   "nbconvert_exporter": "python",
   "pygments_lexer": "ipython3",
   "version": "3.8.8"
  }
 },
 "nbformat": 4,
 "nbformat_minor": 5
}
