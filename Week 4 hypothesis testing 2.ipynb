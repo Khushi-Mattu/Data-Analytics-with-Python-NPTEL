{
 "cells": [
  {
   "cell_type": "markdown",
   "id": "64e58e40",
   "metadata": {},
   "source": [
    "Milk Carton problem"
   ]
  },
  {
   "cell_type": "code",
   "execution_count": 1,
   "id": "47597bc8",
   "metadata": {},
   "outputs": [],
   "source": [
    "import scipy"
   ]
  },
  {
   "cell_type": "code",
   "execution_count": 6,
   "id": "185112a1",
   "metadata": {},
   "outputs": [],
   "source": [
    "from scipy import stats\n",
    "from scipy.stats import norm"
   ]
  },
  {
   "cell_type": "code",
   "execution_count": 7,
   "id": "916938f0",
   "metadata": {},
   "outputs": [
    {
     "data": {
      "text/plain": [
       "0.003071959218650444"
      ]
     },
     "execution_count": 7,
     "metadata": {},
     "output_type": "execute_result"
    }
   ],
   "source": [
    "1-stats.norm.cdf(2.74)"
   ]
  },
  {
   "cell_type": "code",
   "execution_count": 8,
   "id": "630c9050",
   "metadata": {},
   "outputs": [
    {
     "data": {
      "text/plain": [
       "0.006143918437300888"
      ]
     },
     "execution_count": 8,
     "metadata": {},
     "output_type": "execute_result"
    }
   ],
   "source": [
    "(1-stats.norm.cdf(2.74))*2"
   ]
  },
  {
   "cell_type": "code",
   "execution_count": 9,
   "id": "34942867",
   "metadata": {},
   "outputs": [
    {
     "data": {
      "text/plain": [
       "-2.1700903775845606"
      ]
     },
     "execution_count": 9,
     "metadata": {},
     "output_type": "execute_result"
    }
   ],
   "source": [
    "stats.norm.ppf(0.015)"
   ]
  },
  {
   "cell_type": "markdown",
   "id": "04a67af3",
   "metadata": {},
   "source": [
    "Pizza deliveries problem"
   ]
  },
  {
   "cell_type": "code",
   "execution_count": 11,
   "id": "72a79749",
   "metadata": {},
   "outputs": [
    {
     "data": {
      "text/plain": [
       "0.1378565720320355"
      ]
     },
     "execution_count": 11,
     "metadata": {},
     "output_type": "execute_result"
    }
   ],
   "source": [
    "1-stats.norm.cdf(1.09)"
   ]
  },
  {
   "cell_type": "markdown",
   "id": "6926438b",
   "metadata": {},
   "source": []
  }
 ],
 "metadata": {
  "kernelspec": {
   "display_name": "Python 3",
   "language": "python",
   "name": "python3"
  },
  "language_info": {
   "codemirror_mode": {
    "name": "ipython",
    "version": 3
   },
   "file_extension": ".py",
   "mimetype": "text/x-python",
   "name": "python",
   "nbconvert_exporter": "python",
   "pygments_lexer": "ipython3",
   "version": "3.8.8"
  }
 },
 "nbformat": 4,
 "nbformat_minor": 5
}
