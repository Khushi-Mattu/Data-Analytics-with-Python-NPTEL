{
 "cells": [
  {
   "cell_type": "code",
   "execution_count": 2,
   "id": "03cdc25e",
   "metadata": {},
   "outputs": [],
   "source": [
    "import scipy\n",
    "import numpy as np"
   ]
  },
  {
   "cell_type": "code",
   "execution_count": 3,
   "id": "f87f8c74",
   "metadata": {},
   "outputs": [],
   "source": [
    "from scipy.stats import binom"
   ]
  },
  {
   "cell_type": "markdown",
   "id": "53f59947",
   "metadata": {},
   "source": [
    "A survey found that 65% of all financial consumers were verysatisfied with their primary financial institution.Suppose that \n",
    "25 financial consumers are sampled and if the survey result still holds the true today what is the probability that exactly 19\n",
    "are very satisfied with their primary finance institutions?"
   ]
  },
  {
   "cell_type": "code",
   "execution_count": 4,
   "id": "4f710806",
   "metadata": {},
   "outputs": [
    {
     "name": "stdout",
     "output_type": "stream",
     "text": [
      "0.090777998593228\n"
     ]
    }
   ],
   "source": [
    "print(binom.pmf(k=19,n=25,p=0.65))"
   ]
  },
  {
   "cell_type": "markdown",
   "id": "4f3ab952",
   "metadata": {},
   "source": [
    "according to US Census Bureau approximately 6 percentage of all workers in Jackson Mississippi are unemployed in conducting a random telephone survey in Jackson. what is the probability of getting 2 or fewer unemployed workers in a sample of 20?"
   ]
  },
  {
   "cell_type": "code",
   "execution_count": 5,
   "id": "b527993e",
   "metadata": {},
   "outputs": [
    {
     "data": {
      "text/plain": [
       "0.8850275957378549"
      ]
     },
     "execution_count": 5,
     "metadata": {},
     "output_type": "execute_result"
    }
   ],
   "source": [
    "binom.cdf(2,20,0.06)"
   ]
  },
  {
   "cell_type": "markdown",
   "id": "ec8da7c0",
   "metadata": {},
   "source": [
    "Binomial Probability for n=20,p=40 and x=10"
   ]
  },
  {
   "cell_type": "code",
   "execution_count": 6,
   "id": "0fc80494",
   "metadata": {},
   "outputs": [
    {
     "data": {
      "text/plain": [
       "0.11714155053639005"
      ]
     },
     "execution_count": 6,
     "metadata": {},
     "output_type": "execute_result"
    }
   ],
   "source": [
    "binom.pmf(k=10,n=20,p=0.4)"
   ]
  },
  {
   "cell_type": "markdown",
   "id": "73919acd",
   "metadata": {},
   "source": [
    "Poisson Distribution"
   ]
  },
  {
   "cell_type": "code",
   "execution_count": 7,
   "id": "4ace0c4e",
   "metadata": {},
   "outputs": [],
   "source": [
    "from scipy.stats import poisson"
   ]
  },
  {
   "cell_type": "code",
   "execution_count": 8,
   "id": "1d765c67",
   "metadata": {},
   "outputs": [
    {
     "data": {
      "text/plain": [
       "0.18044704431548356"
      ]
     },
     "execution_count": 8,
     "metadata": {},
     "output_type": "execute_result"
    }
   ],
   "source": [
    "poisson.pmf(3,2) # x=2, mean=3"
   ]
  },
  {
   "cell_type": "markdown",
   "id": "af1eb3ad",
   "metadata": {},
   "source": [
    "suppose bank customers arrives randomly on any weekdayafternoon at an average of 3.2 customers every 4 minutes, what is the probability of exactly 5 customers arriving in a 4 minute interval on a weekday afternoon?"
   ]
  },
  {
   "cell_type": "code",
   "execution_count": 9,
   "id": "dd309245",
   "metadata": {},
   "outputs": [
    {
     "data": {
      "text/plain": [
       "0.11397938346351824"
      ]
     },
     "execution_count": 9,
     "metadata": {},
     "output_type": "execute_result"
    }
   ],
   "source": [
    "poisson.pmf(5,3.2)"
   ]
  },
  {
   "cell_type": "markdown",
   "id": "a3036692",
   "metadata": {},
   "source": [
    "Bank customers arrive randomly on weekday afternoon at an average of 3.2 customers every 4 minutes. what is the probability of having more than 7 customers in 4 minute interval on a week day afternoon?"
   ]
  },
  {
   "cell_type": "code",
   "execution_count": 10,
   "id": "f6f0445b",
   "metadata": {},
   "outputs": [],
   "source": [
    "prob_less_than7=poisson.cdf(7,3.2)\n"
   ]
  },
  {
   "cell_type": "code",
   "execution_count": 11,
   "id": "b43d5780",
   "metadata": {},
   "outputs": [
    {
     "data": {
      "text/plain": [
       "0.01682984174895752"
      ]
     },
     "execution_count": 11,
     "metadata": {},
     "output_type": "execute_result"
    }
   ],
   "source": [
    "prob=1-prob_less_than7\n",
    "prob"
   ]
  },
  {
   "cell_type": "markdown",
   "id": "54f9eefc",
   "metadata": {},
   "source": [
    "a bank has an average random arrival rate of 3.2 customers every 4 minutes what is the probability of getting exactly 10 customers during 8 minutes interval."
   ]
  },
  {
   "cell_type": "code",
   "execution_count": 12,
   "id": "8db865d3",
   "metadata": {},
   "outputs": [
    {
     "data": {
      "text/plain": [
       "0.052790043854115495"
      ]
     },
     "execution_count": 12,
     "metadata": {},
     "output_type": "execute_result"
    }
   ],
   "source": [
    "poisson.pmf(10,6.4)"
   ]
  },
  {
   "cell_type": "markdown",
   "id": "566fcd76",
   "metadata": {},
   "source": [
    "Suppose the amount of time it takes to assemble a plastic module ranges from 27 to 39 seconds and that assembly times are uniformly distributed. describe the distribution .what is the probability that a given assembly will take between 30 to 35 seconds?"
   ]
  },
  {
   "cell_type": "code",
   "execution_count": 13,
   "id": "8d847369",
   "metadata": {},
   "outputs": [
    {
     "data": {
      "text/plain": [
       "array([27, 28, 29, 30, 31, 32, 33, 34, 35, 36, 37, 38, 39])"
      ]
     },
     "execution_count": 13,
     "metadata": {},
     "output_type": "execute_result"
    }
   ],
   "source": [
    "arr=np.arange(27,40,1)\n",
    "arr"
   ]
  },
  {
   "cell_type": "code",
   "execution_count": 14,
   "id": "41190599",
   "metadata": {},
   "outputs": [],
   "source": [
    "from scipy.stats import uniform"
   ]
  },
  {
   "cell_type": "code",
   "execution_count": 15,
   "id": "77adc2de",
   "metadata": {},
   "outputs": [
    {
     "data": {
      "text/plain": [
       "33.0"
      ]
     },
     "execution_count": 15,
     "metadata": {},
     "output_type": "execute_result"
    }
   ],
   "source": [
    "uniform.mean(loc=27,scale=12) # 27 is the starting point"
   ]
  },
  {
   "cell_type": "code",
   "execution_count": 16,
   "id": "6546c00e",
   "metadata": {},
   "outputs": [
    {
     "data": {
      "text/plain": [
       "array([0.25      , 0.33333333, 0.41666667, 0.5       , 0.58333333,\n",
       "       0.66666667])"
      ]
     },
     "execution_count": 16,
     "metadata": {},
     "output_type": "execute_result"
    }
   ],
   "source": [
    "uniform.cdf(np.arange(30,36,1),loc=27,scale=12)"
   ]
  },
  {
   "cell_type": "markdown",
   "id": "aad34d12",
   "metadata": {},
   "source": [
    "according to the National Association of Insurance Commissionersthe average annual cost of automobile insurance in the United States in a recent year was691 dollar.Suppose the automobile insurance cost are uniformly distributed in the United Stateswith an average of, from $200 to 1182 dollar what is the standard deviation of this uniformdistribution.So, we have to find out standard deviation of this distribution."
   ]
  },
  {
   "cell_type": "code",
   "execution_count": 17,
   "id": "a23da992",
   "metadata": {},
   "outputs": [
    {
     "data": {
      "text/plain": [
       "691.0"
      ]
     },
     "execution_count": 17,
     "metadata": {},
     "output_type": "execute_result"
    }
   ],
   "source": [
    "uniform.mean(loc=200,scale=982)"
   ]
  },
  {
   "cell_type": "code",
   "execution_count": 18,
   "id": "56bd4682",
   "metadata": {},
   "outputs": [
    {
     "data": {
      "text/plain": [
       "283.4789821721062"
      ]
     },
     "execution_count": 18,
     "metadata": {},
     "output_type": "execute_result"
    }
   ],
   "source": [
    "uniform.std(loc=200,scale=982)"
   ]
  },
  {
   "cell_type": "markdown",
   "id": "7311875f",
   "metadata": {},
   "source": [
    "NORMAL DISTRIBUTION"
   ]
  },
  {
   "cell_type": "code",
   "execution_count": 19,
   "id": "65641d7f",
   "metadata": {},
   "outputs": [],
   "source": [
    "from scipy.stats import norm"
   ]
  },
  {
   "cell_type": "code",
   "execution_count": 20,
   "id": "9ad34a2f",
   "metadata": {},
   "outputs": [],
   "source": [
    "val,m,s=68,65.5,2.5"
   ]
  },
  {
   "cell_type": "code",
   "execution_count": 22,
   "id": "173c84de",
   "metadata": {},
   "outputs": [
    {
     "name": "stdout",
     "output_type": "stream",
     "text": [
      "0.8413447460685429\n"
     ]
    }
   ],
   "source": [
    "print(norm.cdf(val,m,s))"
   ]
  },
  {
   "cell_type": "markdown",
   "id": "d60788da",
   "metadata": {},
   "source": [
    "HYPER GEOMETRIC DISTRIBUTION"
   ]
  },
  {
   "cell_type": "code",
   "execution_count": 23,
   "id": "4a0cefcb",
   "metadata": {},
   "outputs": [],
   "source": [
    "from scipy.stats import hypergeom"
   ]
  },
  {
   "cell_type": "code",
   "execution_count": 24,
   "id": "10167373",
   "metadata": {},
   "outputs": [
    {
     "name": "stdout",
     "output_type": "stream",
     "text": [
      "0.9754901960784306\n"
     ]
    }
   ],
   "source": [
    "print(hypergeom.sf(0,18,3,12))      #One or more"
   ]
  },
  {
   "cell_type": "code",
   "execution_count": 25,
   "id": "1015f9b4",
   "metadata": {},
   "outputs": [
    {
     "name": "stdout",
     "output_type": "stream",
     "text": [
      "0.04738562091503275\n"
     ]
    }
   ],
   "source": [
    "print(hypergeom.cdf(1,18,5,11))    #One or fewer"
   ]
  },
  {
   "cell_type": "markdown",
   "id": "9ea08451",
   "metadata": {},
   "source": [
    "EXPONENTIAL DISTRIBUTION"
   ]
  },
  {
   "cell_type": "code",
   "execution_count": 26,
   "id": "6c77f811",
   "metadata": {},
   "outputs": [],
   "source": [
    "from scipy.stats import expon"
   ]
  },
  {
   "cell_type": "code",
   "execution_count": 27,
   "id": "0d0abb84",
   "metadata": {},
   "outputs": [
    {
     "data": {
      "text/plain": [
       "0.6447736190750485"
      ]
     },
     "execution_count": 27,
     "metadata": {},
     "output_type": "execute_result"
    }
   ],
   "source": [
    "expon.cdf(0.75,0,1/1.38)"
   ]
  },
  {
   "cell_type": "code",
   "execution_count": null,
   "id": "5915dd3c",
   "metadata": {},
   "outputs": [],
   "source": []
  }
 ],
 "metadata": {
  "kernelspec": {
   "display_name": "Python 3",
   "language": "python",
   "name": "python3"
  },
  "language_info": {
   "codemirror_mode": {
    "name": "ipython",
    "version": 3
   },
   "file_extension": ".py",
   "mimetype": "text/x-python",
   "name": "python",
   "nbconvert_exporter": "python",
   "pygments_lexer": "ipython3",
   "version": "3.8.8"
  }
 },
 "nbformat": 4,
 "nbformat_minor": 5
}
